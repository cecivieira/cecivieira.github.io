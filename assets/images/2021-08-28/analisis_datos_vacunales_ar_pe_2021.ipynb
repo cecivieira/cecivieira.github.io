{
  "nbformat": 4,
  "nbformat_minor": 2,
  "metadata": {
    "colab": {
      "name": "analisis-datos-vacunales-ar-pe-2021.ipynb",
      "provenance": [],
      "collapsed_sections": [],
      "machine_shape": "hm"
    },
    "kernelspec": {
      "name": "python3",
      "display_name": "Python 3"
    },
    "language_info": {
      "name": "python"
    }
  },
  "cells": [
    {
      "cell_type": "markdown",
      "source": [
        "# Análisis de datos vacunales 2021: Argentina y Perú\n",
        "\n",
        "Análisis de datos de la vacunación contra Covid-19 en algunos países de América Latina, presentado en PyCon Latam 2021 durante la charla \"Análisis exploratorio de datos: tecnología social y gobiernos democráticos\".\n",
        "\n",
        "\n",
        "Fontes:\n",
        "- Perú (https://www.datosabiertos.gob.pe/dataset/vacunacion)\n",
        "- Argentina (https://www.datos.gob.ar/dataset/salud-vacunas-contra-covid-19-dosis-aplicadas-republica-argentina---registro-desagregado)\n"
      ],
      "metadata": {
        "id": "CYI-RENWwKX6"
      }
    },
    {
      "cell_type": "code",
      "execution_count": 3,
      "source": [
        "from matplotlib import pyplot as plt\n",
        "from zipfile import ZipFile\n",
        " \n",
        "import datetime\n",
        "import py7zr\n",
        "import requests\n",
        " \n",
        "import numpy as np\n",
        "import pandas as pd"
      ],
      "outputs": [],
      "metadata": {
        "id": "RhzCuV4pvx8Z"
      }
    },
    {
      "cell_type": "markdown",
      "source": [
        "# Preprocesamiento de datos"
      ],
      "metadata": {
        "id": "T6UBRcXgAjiQ"
      }
    },
    {
      "cell_type": "markdown",
      "source": [
        "## Argentina"
      ],
      "metadata": {
        "id": "XPZbRViaDUcP"
      }
    },
    {
      "cell_type": "code",
      "execution_count": null,
      "source": [
        "url_argentina = \"https://sisa.msal.gov.ar/datos/descargas/covid-19/files/datos_nomivac_covid19.zip\"\n",
        "request_get = requests.get(url_argentina)\n",
        "request_get"
      ],
      "outputs": [],
      "metadata": {
        "id": "qPcwnUXRDXJT"
      }
    },
    {
      "cell_type": "code",
      "execution_count": null,
      "source": [
        "with open('datos_nomivac_covid_19.zip', 'wb') as zip_argentina:\n",
        "  zip_argentina.write(request_get.content)"
      ],
      "outputs": [],
      "metadata": {
        "id": "f8KCq-0iDXBU"
      }
    },
    {
      "cell_type": "code",
      "execution_count": null,
      "source": [
        "with ZipFile('datos_nomivac_covid_19.zip', 'r') as zip_argentina:\n",
        "  title = zip_argentina.namelist()\n",
        "  zip_argentina.extract(member=title[0])"
      ],
      "outputs": [],
      "metadata": {
        "id": "QKFYAwUGDWuF"
      }
    },
    {
      "cell_type": "code",
      "execution_count": 28,
      "source": [
        "vacunacion_argentina = pd.read_csv('/content/datos_nomivac_covid19.csv', parse_dates=['fecha_aplicacion'])\n",
        "vacunacion_argentina"
      ],
      "outputs": [
        {
          "output_type": "execute_result",
          "data": {
            "text/plain": [
              "         sexo grupo_etario  ... orden_dosis  lote_vacuna\n",
              "0           M        70-79  ...           2   2021030371\n",
              "1           M        60-69  ...           1    486010121\n",
              "2           F        18-29  ...           1     I-490421\n",
              "3           F        50-59  ...           1        77534\n",
              "4           F        50-59  ...           1       NF0008\n",
              "...       ...          ...  ...         ...          ...\n",
              "41408684    M        40-49  ...           1     I-420321\n",
              "41408685    M        40-49  ...           1        77534\n",
              "41408686    F        60-69  ...           2       NH0303\n",
              "41408687    M        60-69  ...           1     I-250321\n",
              "41408688    M        18-29  ...           2  202106B1368\n",
              "\n",
              "[41408689 rows x 15 columns]"
            ],
            "text/html": [
              "<div>\n",
              "<style scoped>\n",
              "    .dataframe tbody tr th:only-of-type {\n",
              "        vertical-align: middle;\n",
              "    }\n",
              "\n",
              "    .dataframe tbody tr th {\n",
              "        vertical-align: top;\n",
              "    }\n",
              "\n",
              "    .dataframe thead th {\n",
              "        text-align: right;\n",
              "    }\n",
              "</style>\n",
              "<table border=\"1\" class=\"dataframe\">\n",
              "  <thead>\n",
              "    <tr style=\"text-align: right;\">\n",
              "      <th></th>\n",
              "      <th>sexo</th>\n",
              "      <th>grupo_etario</th>\n",
              "      <th>jurisdiccion_residencia</th>\n",
              "      <th>jurisdiccion_residencia_id</th>\n",
              "      <th>depto_residencia</th>\n",
              "      <th>depto_residencia_id</th>\n",
              "      <th>jurisdiccion_aplicacion</th>\n",
              "      <th>jurisdiccion_aplicacion_id</th>\n",
              "      <th>depto_aplicacion</th>\n",
              "      <th>depto_aplicacion_id</th>\n",
              "      <th>fecha_aplicacion</th>\n",
              "      <th>vacuna</th>\n",
              "      <th>condicion_aplicacion</th>\n",
              "      <th>orden_dosis</th>\n",
              "      <th>lote_vacuna</th>\n",
              "    </tr>\n",
              "  </thead>\n",
              "  <tbody>\n",
              "    <tr>\n",
              "      <th>0</th>\n",
              "      <td>M</td>\n",
              "      <td>70-79</td>\n",
              "      <td>Buenos Aires</td>\n",
              "      <td>6</td>\n",
              "      <td>Quilmes</td>\n",
              "      <td>658</td>\n",
              "      <td>Buenos Aires</td>\n",
              "      <td>6</td>\n",
              "      <td>Quilmes</td>\n",
              "      <td>658</td>\n",
              "      <td>2021-05-12</td>\n",
              "      <td>Sinopharm</td>\n",
              "      <td>60 o más años</td>\n",
              "      <td>2</td>\n",
              "      <td>2021030371</td>\n",
              "    </tr>\n",
              "    <tr>\n",
              "      <th>1</th>\n",
              "      <td>M</td>\n",
              "      <td>60-69</td>\n",
              "      <td>Misiones</td>\n",
              "      <td>54</td>\n",
              "      <td>Libertador Grl. San Martín</td>\n",
              "      <td>77</td>\n",
              "      <td>Misiones</td>\n",
              "      <td>54</td>\n",
              "      <td>Libertador Grl. San Martín</td>\n",
              "      <td>77</td>\n",
              "      <td>2021-03-11</td>\n",
              "      <td>Sputnik</td>\n",
              "      <td>60 o más años</td>\n",
              "      <td>1</td>\n",
              "      <td>486010121</td>\n",
              "    </tr>\n",
              "    <tr>\n",
              "      <th>2</th>\n",
              "      <td>F</td>\n",
              "      <td>18-29</td>\n",
              "      <td>Buenos Aires</td>\n",
              "      <td>6</td>\n",
              "      <td>Florencio Varela</td>\n",
              "      <td>274</td>\n",
              "      <td>Buenos Aires</td>\n",
              "      <td>6</td>\n",
              "      <td>Florencio Varela</td>\n",
              "      <td>274</td>\n",
              "      <td>2021-06-01</td>\n",
              "      <td>Sputnik</td>\n",
              "      <td>18 a 59 años CON Factores de Riesgo</td>\n",
              "      <td>1</td>\n",
              "      <td>I-490421</td>\n",
              "    </tr>\n",
              "    <tr>\n",
              "      <th>3</th>\n",
              "      <td>F</td>\n",
              "      <td>50-59</td>\n",
              "      <td>Buenos Aires</td>\n",
              "      <td>6</td>\n",
              "      <td>Pilar</td>\n",
              "      <td>638</td>\n",
              "      <td>Buenos Aires</td>\n",
              "      <td>6</td>\n",
              "      <td>Pilar</td>\n",
              "      <td>638</td>\n",
              "      <td>2021-06-25</td>\n",
              "      <td>AstraZeneca</td>\n",
              "      <td>Estratégico</td>\n",
              "      <td>1</td>\n",
              "      <td>77534</td>\n",
              "    </tr>\n",
              "    <tr>\n",
              "      <th>4</th>\n",
              "      <td>F</td>\n",
              "      <td>50-59</td>\n",
              "      <td>Buenos Aires</td>\n",
              "      <td>6</td>\n",
              "      <td>General San Martín</td>\n",
              "      <td>371</td>\n",
              "      <td>Buenos Aires</td>\n",
              "      <td>6</td>\n",
              "      <td>General San Martín</td>\n",
              "      <td>371</td>\n",
              "      <td>2021-06-01</td>\n",
              "      <td>AstraZeneca</td>\n",
              "      <td>Salud</td>\n",
              "      <td>1</td>\n",
              "      <td>NF0008</td>\n",
              "    </tr>\n",
              "    <tr>\n",
              "      <th>...</th>\n",
              "      <td>...</td>\n",
              "      <td>...</td>\n",
              "      <td>...</td>\n",
              "      <td>...</td>\n",
              "      <td>...</td>\n",
              "      <td>...</td>\n",
              "      <td>...</td>\n",
              "      <td>...</td>\n",
              "      <td>...</td>\n",
              "      <td>...</td>\n",
              "      <td>...</td>\n",
              "      <td>...</td>\n",
              "      <td>...</td>\n",
              "      <td>...</td>\n",
              "      <td>...</td>\n",
              "    </tr>\n",
              "    <tr>\n",
              "      <th>41408684</th>\n",
              "      <td>M</td>\n",
              "      <td>40-49</td>\n",
              "      <td>Buenos Aires</td>\n",
              "      <td>6</td>\n",
              "      <td>Florencio Varela</td>\n",
              "      <td>274</td>\n",
              "      <td>Buenos Aires</td>\n",
              "      <td>6</td>\n",
              "      <td>Florencio Varela</td>\n",
              "      <td>274</td>\n",
              "      <td>2021-05-20</td>\n",
              "      <td>Sputnik</td>\n",
              "      <td>18 a 59 años CON Factores de Riesgo</td>\n",
              "      <td>1</td>\n",
              "      <td>I-420321</td>\n",
              "    </tr>\n",
              "    <tr>\n",
              "      <th>41408685</th>\n",
              "      <td>M</td>\n",
              "      <td>40-49</td>\n",
              "      <td>Mendoza</td>\n",
              "      <td>50</td>\n",
              "      <td>Capital</td>\n",
              "      <td>7</td>\n",
              "      <td>Mendoza</td>\n",
              "      <td>50</td>\n",
              "      <td>Capital</td>\n",
              "      <td>7</td>\n",
              "      <td>2021-06-18</td>\n",
              "      <td>AstraZeneca</td>\n",
              "      <td>40 a 49 años SIN Factores de Riesgo</td>\n",
              "      <td>1</td>\n",
              "      <td>77534</td>\n",
              "    </tr>\n",
              "    <tr>\n",
              "      <th>41408686</th>\n",
              "      <td>F</td>\n",
              "      <td>60-69</td>\n",
              "      <td>Buenos Aires</td>\n",
              "      <td>6</td>\n",
              "      <td>San Fernando</td>\n",
              "      <td>749</td>\n",
              "      <td>Buenos Aires</td>\n",
              "      <td>6</td>\n",
              "      <td>San Fernando</td>\n",
              "      <td>749</td>\n",
              "      <td>2021-07-01</td>\n",
              "      <td>AstraZeneca</td>\n",
              "      <td>Salud</td>\n",
              "      <td>2</td>\n",
              "      <td>NH0303</td>\n",
              "    </tr>\n",
              "    <tr>\n",
              "      <th>41408687</th>\n",
              "      <td>M</td>\n",
              "      <td>60-69</td>\n",
              "      <td>Buenos Aires</td>\n",
              "      <td>6</td>\n",
              "      <td>Merlo</td>\n",
              "      <td>539</td>\n",
              "      <td>Buenos Aires</td>\n",
              "      <td>6</td>\n",
              "      <td>Merlo</td>\n",
              "      <td>539</td>\n",
              "      <td>2021-04-14</td>\n",
              "      <td>Sputnik</td>\n",
              "      <td>60 o más años</td>\n",
              "      <td>1</td>\n",
              "      <td>I-250321</td>\n",
              "    </tr>\n",
              "    <tr>\n",
              "      <th>41408688</th>\n",
              "      <td>M</td>\n",
              "      <td>18-29</td>\n",
              "      <td>Buenos Aires</td>\n",
              "      <td>6</td>\n",
              "      <td>Florencio Varela</td>\n",
              "      <td>274</td>\n",
              "      <td>Buenos Aires</td>\n",
              "      <td>6</td>\n",
              "      <td>Florencio Varela</td>\n",
              "      <td>274</td>\n",
              "      <td>2021-08-26</td>\n",
              "      <td>Sinopharm</td>\n",
              "      <td>18 a 59 años CON Factores de Riesgo</td>\n",
              "      <td>2</td>\n",
              "      <td>202106B1368</td>\n",
              "    </tr>\n",
              "  </tbody>\n",
              "</table>\n",
              "<p>41408689 rows × 15 columns</p>\n",
              "</div>"
            ]
          },
          "metadata": {},
          "execution_count": 28
        }
      ],
      "metadata": {
        "id": "iruEU19jHsIk",
        "colab": {
          "base_uri": "https://localhost:8080/",
          "height": 548
        },
        "outputId": "612ab085-2bf7-451f-feb2-07d3cb5a631f"
      }
    },
    {
      "cell_type": "code",
      "execution_count": 29,
      "source": [
        "vacunacion_argentina.info()"
      ],
      "outputs": [
        {
          "output_type": "stream",
          "name": "stdout",
          "text": [
            "<class 'pandas.core.frame.DataFrame'>\n",
            "RangeIndex: 41408689 entries, 0 to 41408688\n",
            "Data columns (total 15 columns):\n",
            " #   Column                      Dtype         \n",
            "---  ------                      -----         \n",
            " 0   sexo                        object        \n",
            " 1   grupo_etario                object        \n",
            " 2   jurisdiccion_residencia     object        \n",
            " 3   jurisdiccion_residencia_id  int64         \n",
            " 4   depto_residencia            object        \n",
            " 5   depto_residencia_id         int64         \n",
            " 6   jurisdiccion_aplicacion     object        \n",
            " 7   jurisdiccion_aplicacion_id  int64         \n",
            " 8   depto_aplicacion            object        \n",
            " 9   depto_aplicacion_id         int64         \n",
            " 10  fecha_aplicacion            datetime64[ns]\n",
            " 11  vacuna                      object        \n",
            " 12  condicion_aplicacion        object        \n",
            " 13  orden_dosis                 int64         \n",
            " 14  lote_vacuna                 object        \n",
            "dtypes: datetime64[ns](1), int64(5), object(9)\n",
            "memory usage: 4.6+ GB\n"
          ]
        }
      ],
      "metadata": {
        "id": "JBMGIciaI96K",
        "colab": {
          "base_uri": "https://localhost:8080/"
        },
        "outputId": "dba7a7b4-5288-42f1-b24c-866ea1e1fe1a"
      }
    },
    {
      "cell_type": "markdown",
      "source": [
        "## Perú"
      ],
      "metadata": {
        "id": "GFNQJY02LeIW"
      }
    },
    {
      "cell_type": "code",
      "execution_count": 41,
      "source": [
        "dict_peru = pd.read_excel('https://www.datosabiertos.gob.pe/sites/default/files/Diccionario_Datos%20%285%29.XLSX')\n",
        "dict_peru"
      ],
      "outputs": [
        {
          "output_type": "execute_result",
          "data": {
            "text/plain": [
              "            Variable                                        Descripción\n",
              "0        FECHA_CORTE                      Fecha de corte de información\n",
              "1               UUID                          ID de la persona vacunada\n",
              "2       GRUPO_RIESGO  Grupo de riesgo al que pertenece la persona va...\n",
              "3               EDAD                        Edad de la persona vacunada\n",
              "4               SEXO                        Sexo de la persona vacunada\n",
              "5   FECHA_VACUNACION                                Fecha de vacunación\n",
              "6              DOSIS                                     Dosis aplicada\n",
              "7         FABRICANTE                            Fabricante de la vacuna\n",
              "8             DIRESA          Diresa del EESS donde se aplicó la vacuna\n",
              "9       DEPARTAMENTO    Departamento del EESS donde se aplicó la vacuna\n",
              "10         PROVINCIA       Provincia del EESS donde se aplicó la vacuna\n",
              "11          DISTRITO        Distrito del EESS donde se aplicó la vacuna"
            ],
            "text/html": [
              "<div>\n",
              "<style scoped>\n",
              "    .dataframe tbody tr th:only-of-type {\n",
              "        vertical-align: middle;\n",
              "    }\n",
              "\n",
              "    .dataframe tbody tr th {\n",
              "        vertical-align: top;\n",
              "    }\n",
              "\n",
              "    .dataframe thead th {\n",
              "        text-align: right;\n",
              "    }\n",
              "</style>\n",
              "<table border=\"1\" class=\"dataframe\">\n",
              "  <thead>\n",
              "    <tr style=\"text-align: right;\">\n",
              "      <th></th>\n",
              "      <th>Variable</th>\n",
              "      <th>Descripción</th>\n",
              "    </tr>\n",
              "  </thead>\n",
              "  <tbody>\n",
              "    <tr>\n",
              "      <th>0</th>\n",
              "      <td>FECHA_CORTE</td>\n",
              "      <td>Fecha de corte de información</td>\n",
              "    </tr>\n",
              "    <tr>\n",
              "      <th>1</th>\n",
              "      <td>UUID</td>\n",
              "      <td>ID de la persona vacunada</td>\n",
              "    </tr>\n",
              "    <tr>\n",
              "      <th>2</th>\n",
              "      <td>GRUPO_RIESGO</td>\n",
              "      <td>Grupo de riesgo al que pertenece la persona va...</td>\n",
              "    </tr>\n",
              "    <tr>\n",
              "      <th>3</th>\n",
              "      <td>EDAD</td>\n",
              "      <td>Edad de la persona vacunada</td>\n",
              "    </tr>\n",
              "    <tr>\n",
              "      <th>4</th>\n",
              "      <td>SEXO</td>\n",
              "      <td>Sexo de la persona vacunada</td>\n",
              "    </tr>\n",
              "    <tr>\n",
              "      <th>5</th>\n",
              "      <td>FECHA_VACUNACION</td>\n",
              "      <td>Fecha de vacunación</td>\n",
              "    </tr>\n",
              "    <tr>\n",
              "      <th>6</th>\n",
              "      <td>DOSIS</td>\n",
              "      <td>Dosis aplicada</td>\n",
              "    </tr>\n",
              "    <tr>\n",
              "      <th>7</th>\n",
              "      <td>FABRICANTE</td>\n",
              "      <td>Fabricante de la vacuna</td>\n",
              "    </tr>\n",
              "    <tr>\n",
              "      <th>8</th>\n",
              "      <td>DIRESA</td>\n",
              "      <td>Diresa del EESS donde se aplicó la vacuna</td>\n",
              "    </tr>\n",
              "    <tr>\n",
              "      <th>9</th>\n",
              "      <td>DEPARTAMENTO</td>\n",
              "      <td>Departamento del EESS donde se aplicó la vacuna</td>\n",
              "    </tr>\n",
              "    <tr>\n",
              "      <th>10</th>\n",
              "      <td>PROVINCIA</td>\n",
              "      <td>Provincia del EESS donde se aplicó la vacuna</td>\n",
              "    </tr>\n",
              "    <tr>\n",
              "      <th>11</th>\n",
              "      <td>DISTRITO</td>\n",
              "      <td>Distrito del EESS donde se aplicó la vacuna</td>\n",
              "    </tr>\n",
              "  </tbody>\n",
              "</table>\n",
              "</div>"
            ]
          },
          "metadata": {},
          "execution_count": 41
        }
      ],
      "metadata": {
        "id": "IFuqRhLQLgGp",
        "colab": {
          "base_uri": "https://localhost:8080/",
          "height": 426
        },
        "outputId": "a0f27f2e-d4df-4005-fcec-74b4dc1ab506"
      }
    },
    {
      "cell_type": "code",
      "execution_count": null,
      "source": [
        "url_peru = \"https://cloud.minsa.gob.pe/s/To2QtqoNjKqobfw/download\"\n",
        "request_get_peru = requests.get(url_peru)\n",
        "request_get_peru"
      ],
      "outputs": [],
      "metadata": {
        "id": "JxpyFPCiQTd6"
      }
    },
    {
      "cell_type": "code",
      "execution_count": null,
      "source": [
        "with open('peru_vacunacion_covid_19.7z', 'wb') as zip_peru:\n",
        "  zip_peru.write(request_get_peru.content)"
      ],
      "outputs": [],
      "metadata": {
        "id": "3IEiVGJ-RRze"
      }
    },
    {
      "cell_type": "code",
      "execution_count": null,
      "source": [
        "with py7zr.SevenZipFile('peru_vacunacion_covid_19.7z', mode='r') as zip_peru:\n",
        "  zip_peru.extractall()"
      ],
      "outputs": [],
      "metadata": {
        "id": "uvLqSauNRV3H"
      }
    },
    {
      "cell_type": "code",
      "execution_count": 8,
      "source": [
        "vacunacion_peru = pd.read_csv(\"/content/vacunas_covid.csv\", encoding='utf-8-sig', parse_dates=['FECHA_CORTE', 'FECHA_VACUNACION'])\n",
        "vacunacion_peru.info()"
      ],
      "outputs": [
        {
          "output_type": "stream",
          "name": "stdout",
          "text": [
            "<class 'pandas.core.frame.DataFrame'>\n",
            "RangeIndex: 17847210 entries, 0 to 17847209\n",
            "Data columns (total 12 columns):\n",
            " #   Column            Dtype         \n",
            "---  ------            -----         \n",
            " 0   FECHA_CORTE       datetime64[ns]\n",
            " 1   UUID              object        \n",
            " 2   GRUPO_RIESGO      object        \n",
            " 3   EDAD              int64         \n",
            " 4   SEXO              object        \n",
            " 5   FECHA_VACUNACION  datetime64[ns]\n",
            " 6   DOSIS             int64         \n",
            " 7   FABRICANTE        object        \n",
            " 8   DIRESA            object        \n",
            " 9   DEPARTAMENTO      object        \n",
            " 10  PROVINCIA         object        \n",
            " 11  DISTRITO          object        \n",
            "dtypes: datetime64[ns](2), int64(2), object(8)\n",
            "memory usage: 1.6+ GB\n"
          ]
        }
      ],
      "metadata": {
        "id": "ogM9TnVSU8Fy",
        "colab": {
          "base_uri": "https://localhost:8080/"
        },
        "outputId": "dbf82fbb-5906-4698-c796-db1d2d9cc8ed"
      }
    },
    {
      "cell_type": "markdown",
      "source": [
        "# Explotación\n",
        "\n",
        "Lo que buscamos:\n",
        "\n",
        "- La distribuición etária de la población vacunada;\n",
        "- Comparación entre los 2 países del porcentaje de la población vacunada;"
      ],
      "metadata": {
        "id": "C9osjSX09AeD"
      }
    },
    {
      "cell_type": "markdown",
      "source": [
        "## Argentina, Perú\n",
        "\n",
        "Para facilitar nuestro análisis, crearemos un dataframe apenas con los datos que importa para lo que buscamos. Además, uniremos los dataframes para facilitar nuestro trabalho, por lo tanto tendremos que poner el mismo estandarde en los dataframes de ambos los países."
      ],
      "metadata": {
        "id": "_Ocnk3jL4fBk"
      }
    },
    {
      "cell_type": "markdown",
      "source": [
        "Estandarización del dataframe de Argentina"
      ],
      "metadata": {}
    },
    {
      "cell_type": "code",
      "execution_count": 31,
      "source": [
        "vacunacion_argentina.columns"
      ],
      "outputs": [
        {
          "output_type": "execute_result",
          "data": {
            "text/plain": [
              "Index(['sexo', 'grupo_etario', 'jurisdiccion_residencia',\n",
              "       'jurisdiccion_residencia_id', 'depto_residencia', 'depto_residencia_id',\n",
              "       'jurisdiccion_aplicacion', 'jurisdiccion_aplicacion_id',\n",
              "       'depto_aplicacion', 'depto_aplicacion_id', 'fecha_aplicacion', 'vacuna',\n",
              "       'condicion_aplicacion', 'orden_dosis', 'lote_vacuna'],\n",
              "      dtype='object')"
            ]
          },
          "metadata": {},
          "execution_count": 31
        }
      ],
      "metadata": {
        "id": "wOVDTIxt8plz",
        "colab": {
          "base_uri": "https://localhost:8080/"
        },
        "outputId": "73bc3a64-2fa8-4bfb-c7e3-7b812740eccd"
      }
    },
    {
      "cell_type": "code",
      "execution_count": 33,
      "source": [
        "vacunacion_argentina_estandar = vacunacion_argentina[['grupo_etario', 'fecha_aplicacion', 'vacuna', 'orden_dosis']].copy()\n",
        "vacunacion_argentina_estandar['pais'] = 'Argentina'\n",
        "vacunacion_argentina_estandar['fecha_aplicacion'] = vacunacion_argentina_estandar['fecha_aplicacion'].dt.strftime('%m-%Y')"
      ],
      "outputs": [],
      "metadata": {
        "id": "iIEqOdT582c6"
      }
    },
    {
      "cell_type": "code",
      "execution_count": null,
      "source": [
        "vacunacion_argentina_estandar.to_csv('/content/drive/MyDrive/Comunidades/Palestras/datos/vacunacion_argentina_estandar.csv')\n"
      ],
      "outputs": [],
      "metadata": {
        "id": "fl9YNxqj-rkX"
      }
    },
    {
      "cell_type": "code",
      "execution_count": 35,
      "source": [
        "vacunacion_argentina_estandar.head()"
      ],
      "outputs": [
        {
          "output_type": "execute_result",
          "data": {
            "text/plain": [
              "  grupo_etario fecha_aplicacion       vacuna  orden_dosis       pais\n",
              "0        70-79          05-2021    Sinopharm            2  Argentina\n",
              "1        60-69          03-2021      Sputnik            1  Argentina\n",
              "2        18-29          06-2021      Sputnik            1  Argentina\n",
              "3        50-59          06-2021  AstraZeneca            1  Argentina\n",
              "4        50-59          06-2021  AstraZeneca            1  Argentina"
            ],
            "text/html": [
              "<div>\n",
              "<style scoped>\n",
              "    .dataframe tbody tr th:only-of-type {\n",
              "        vertical-align: middle;\n",
              "    }\n",
              "\n",
              "    .dataframe tbody tr th {\n",
              "        vertical-align: top;\n",
              "    }\n",
              "\n",
              "    .dataframe thead th {\n",
              "        text-align: right;\n",
              "    }\n",
              "</style>\n",
              "<table border=\"1\" class=\"dataframe\">\n",
              "  <thead>\n",
              "    <tr style=\"text-align: right;\">\n",
              "      <th></th>\n",
              "      <th>grupo_etario</th>\n",
              "      <th>fecha_aplicacion</th>\n",
              "      <th>vacuna</th>\n",
              "      <th>orden_dosis</th>\n",
              "      <th>pais</th>\n",
              "    </tr>\n",
              "  </thead>\n",
              "  <tbody>\n",
              "    <tr>\n",
              "      <th>0</th>\n",
              "      <td>70-79</td>\n",
              "      <td>05-2021</td>\n",
              "      <td>Sinopharm</td>\n",
              "      <td>2</td>\n",
              "      <td>Argentina</td>\n",
              "    </tr>\n",
              "    <tr>\n",
              "      <th>1</th>\n",
              "      <td>60-69</td>\n",
              "      <td>03-2021</td>\n",
              "      <td>Sputnik</td>\n",
              "      <td>1</td>\n",
              "      <td>Argentina</td>\n",
              "    </tr>\n",
              "    <tr>\n",
              "      <th>2</th>\n",
              "      <td>18-29</td>\n",
              "      <td>06-2021</td>\n",
              "      <td>Sputnik</td>\n",
              "      <td>1</td>\n",
              "      <td>Argentina</td>\n",
              "    </tr>\n",
              "    <tr>\n",
              "      <th>3</th>\n",
              "      <td>50-59</td>\n",
              "      <td>06-2021</td>\n",
              "      <td>AstraZeneca</td>\n",
              "      <td>1</td>\n",
              "      <td>Argentina</td>\n",
              "    </tr>\n",
              "    <tr>\n",
              "      <th>4</th>\n",
              "      <td>50-59</td>\n",
              "      <td>06-2021</td>\n",
              "      <td>AstraZeneca</td>\n",
              "      <td>1</td>\n",
              "      <td>Argentina</td>\n",
              "    </tr>\n",
              "  </tbody>\n",
              "</table>\n",
              "</div>"
            ]
          },
          "metadata": {},
          "execution_count": 35
        }
      ],
      "metadata": {
        "colab": {
          "base_uri": "https://localhost:8080/",
          "height": 206
        },
        "id": "FZZxnafAlxCx",
        "outputId": "be9c6526-cef7-456d-88d3-d04f26073664"
      }
    },
    {
      "cell_type": "markdown",
      "source": [
        "Para aplicar los mismos grupos etários en los datos de Perú, sacaremos un listado de estos primeros datos que estamos manejando."
      ],
      "metadata": {}
    },
    {
      "cell_type": "code",
      "execution_count": 37,
      "source": [
        "grupo_etario = vacunacion_argentina_estandar['grupo_etario'].unique().tolist()\n",
        "grupo_etario.sort()\n",
        "grupo_etario"
      ],
      "outputs": [
        {
          "output_type": "execute_result",
          "data": {
            "text/plain": [
              "['18-29',\n",
              " '30-39',\n",
              " '40-49',\n",
              " '50-59',\n",
              " '60-69',\n",
              " '70-79',\n",
              " '80-89',\n",
              " '90-99',\n",
              " '>=100',\n",
              " 'S.I.']"
            ]
          },
          "metadata": {},
          "execution_count": 37
        }
      ],
      "metadata": {
        "id": "F1eNcEepBC_q",
        "colab": {
          "base_uri": "https://localhost:8080/"
        },
        "outputId": "ba9a74f8-511c-4e75-b1a1-1550ca950f96"
      }
    },
    {
      "cell_type": "code",
      "execution_count": 38,
      "source": [
        "grupo_etario.pop(-1)\n",
        "grupo_etario"
      ],
      "outputs": [
        {
          "output_type": "execute_result",
          "data": {
            "text/plain": [
              "['18-29',\n",
              " '30-39',\n",
              " '40-49',\n",
              " '50-59',\n",
              " '60-69',\n",
              " '70-79',\n",
              " '80-89',\n",
              " '90-99',\n",
              " '>=100']"
            ]
          },
          "metadata": {},
          "execution_count": 38
        }
      ],
      "metadata": {
        "id": "Qhb31a7lFWgl",
        "colab": {
          "base_uri": "https://localhost:8080/"
        },
        "outputId": "124831bd-10cf-423b-cac7-fe1195022b6c"
      }
    },
    {
      "cell_type": "markdown",
      "source": [
        "Estandarización del dataframe de Perú"
      ],
      "metadata": {}
    },
    {
      "cell_type": "code",
      "execution_count": 39,
      "source": [
        "vacunacion_peru.columns"
      ],
      "outputs": [
        {
          "output_type": "execute_result",
          "data": {
            "text/plain": [
              "Index(['FECHA_CORTE', 'UUID', 'GRUPO_RIESGO', 'EDAD', 'SEXO',\n",
              "       'FECHA_VACUNACION', 'DOSIS', 'FABRICANTE', 'DIRESA', 'DEPARTAMENTO',\n",
              "       'PROVINCIA', 'DISTRITO'],\n",
              "      dtype='object')"
            ]
          },
          "metadata": {},
          "execution_count": 39
        }
      ],
      "metadata": {
        "id": "mkaOaH_j_txG",
        "colab": {
          "base_uri": "https://localhost:8080/"
        },
        "outputId": "bd4acfa4-1511-482e-fbaa-2a8730b1d9d1"
      }
    },
    {
      "cell_type": "code",
      "execution_count": 41,
      "source": [
        "vacunacion_peru_estandar = vacunacion_peru[['EDAD', 'FECHA_VACUNACION', 'FABRICANTE', 'DOSIS']].copy()\n",
        "vacunacion_peru_estandar['pais'] = 'Perú'\n",
        "vacunacion_peru_estandar['FECHA_VACUNACION'] = vacunacion_peru_estandar['FECHA_VACUNACION'].dt.strftime('%m-%Y')"
      ],
      "outputs": [],
      "metadata": {
        "id": "xNHY7uPq_16P"
      }
    },
    {
      "cell_type": "code",
      "execution_count": null,
      "source": [
        "vacunacion_peru_estandar.to_csv('/content/drive/MyDrive/Comunidades/Palestras/datos/vacunacion_peru_estandar.csv')"
      ],
      "outputs": [],
      "metadata": {
        "id": "83ljs-T9Qok4"
      }
    },
    {
      "cell_type": "code",
      "execution_count": 42,
      "source": [
        "cortes = [18, 30, 40, 50, 60, 70, 80, 90, 100, 300]\n",
        "vacunacion_peru_estandar['EDAD'] = pd.cut(vacunacion_peru_estandar['EDAD'], cortes, include_lowest=True, labels=grupo_etario)"
      ],
      "outputs": [],
      "metadata": {
        "id": "YbP9jAz0A-At"
      }
    },
    {
      "cell_type": "code",
      "execution_count": 43,
      "source": [
        "vacunacion_peru_estandar.head()"
      ],
      "outputs": [
        {
          "output_type": "execute_result",
          "data": {
            "text/plain": [
              "    EDAD FECHA_VACUNACION FABRICANTE  DOSIS  pais\n",
              "0  50-59          07-2021     PFIZER      1  Perú\n",
              "1  30-39          08-2021     PFIZER      2  Perú\n",
              "2  50-59          04-2021     PFIZER      1  Perú\n",
              "3  60-69          06-2021     PFIZER      2  Perú\n",
              "4  30-39          07-2021     PFIZER      1  Perú"
            ],
            "text/html": [
              "<div>\n",
              "<style scoped>\n",
              "    .dataframe tbody tr th:only-of-type {\n",
              "        vertical-align: middle;\n",
              "    }\n",
              "\n",
              "    .dataframe tbody tr th {\n",
              "        vertical-align: top;\n",
              "    }\n",
              "\n",
              "    .dataframe thead th {\n",
              "        text-align: right;\n",
              "    }\n",
              "</style>\n",
              "<table border=\"1\" class=\"dataframe\">\n",
              "  <thead>\n",
              "    <tr style=\"text-align: right;\">\n",
              "      <th></th>\n",
              "      <th>EDAD</th>\n",
              "      <th>FECHA_VACUNACION</th>\n",
              "      <th>FABRICANTE</th>\n",
              "      <th>DOSIS</th>\n",
              "      <th>pais</th>\n",
              "    </tr>\n",
              "  </thead>\n",
              "  <tbody>\n",
              "    <tr>\n",
              "      <th>0</th>\n",
              "      <td>50-59</td>\n",
              "      <td>07-2021</td>\n",
              "      <td>PFIZER</td>\n",
              "      <td>1</td>\n",
              "      <td>Perú</td>\n",
              "    </tr>\n",
              "    <tr>\n",
              "      <th>1</th>\n",
              "      <td>30-39</td>\n",
              "      <td>08-2021</td>\n",
              "      <td>PFIZER</td>\n",
              "      <td>2</td>\n",
              "      <td>Perú</td>\n",
              "    </tr>\n",
              "    <tr>\n",
              "      <th>2</th>\n",
              "      <td>50-59</td>\n",
              "      <td>04-2021</td>\n",
              "      <td>PFIZER</td>\n",
              "      <td>1</td>\n",
              "      <td>Perú</td>\n",
              "    </tr>\n",
              "    <tr>\n",
              "      <th>3</th>\n",
              "      <td>60-69</td>\n",
              "      <td>06-2021</td>\n",
              "      <td>PFIZER</td>\n",
              "      <td>2</td>\n",
              "      <td>Perú</td>\n",
              "    </tr>\n",
              "    <tr>\n",
              "      <th>4</th>\n",
              "      <td>30-39</td>\n",
              "      <td>07-2021</td>\n",
              "      <td>PFIZER</td>\n",
              "      <td>1</td>\n",
              "      <td>Perú</td>\n",
              "    </tr>\n",
              "  </tbody>\n",
              "</table>\n",
              "</div>"
            ]
          },
          "metadata": {},
          "execution_count": 43
        }
      ],
      "metadata": {
        "id": "pK_3WU4YG6fG",
        "colab": {
          "base_uri": "https://localhost:8080/",
          "height": 206
        },
        "outputId": "b775dcfd-4e81-457f-feb9-13ed979bbcf3"
      }
    },
    {
      "cell_type": "markdown",
      "source": [
        "Para concatenar los dataframes, hace falta que los títulos de las columnas sean los mismos. Así que, vamos usar los mismos títulos del dataframe de Argentina"
      ],
      "metadata": {}
    },
    {
      "cell_type": "code",
      "execution_count": 44,
      "source": [
        "vacunacion_peru_estandar.columns = ['grupo_etario', 'fecha_aplicacion', 'vacuna', 'orden_dosis', 'pais']"
      ],
      "outputs": [],
      "metadata": {
        "id": "k-WHtXuSTjkh"
      }
    },
    {
      "cell_type": "code",
      "execution_count": null,
      "source": [
        "vacunacion_ar_pe = pd.concat([vacunacion_argentina_estandar, vacunacion_peru_estandar], ignore_index=True)"
      ],
      "outputs": [],
      "metadata": {
        "id": "TlSL0PZsGfWV"
      }
    },
    {
      "cell_type": "markdown",
      "source": [
        "Las próximas 3 celdas no hace falta que lo hagas. Están aquí para que veas cómo leer los datos ya declarando los tipos de cada columna."
      ],
      "metadata": {}
    },
    {
      "cell_type": "code",
      "execution_count": null,
      "source": [
        "vacunacion_ar_pe.to_csv('/content/drive/MyDrive/Comunidades/Palestras/datos/vacunacion_ar_pe_estandar.csv')"
      ],
      "outputs": [],
      "metadata": {
        "id": "QGq9sJl7RWoc"
      }
    },
    {
      "cell_type": "code",
      "execution_count": 1,
      "source": [
        "dtype = {'grupo_etario': str,\n",
        "         'fecha_aplicacion': str,\n",
        "         'vacuna': str,\n",
        "         'orden_dosis': int,\n",
        "         'pais': str}"
      ],
      "outputs": [],
      "metadata": {
        "id": "EKzsFzQ7nDvs"
      }
    },
    {
      "cell_type": "code",
      "execution_count": 4,
      "source": [
        "vacunacion_ar_pe = pd.read_csv('/content/drive/MyDrive/Comunidades/Palestras/datos/vacunacion_ar_pe_estandar.csv', dtype=dtype, parse_dates=['fecha_aplicacion']) #linea duplicada"
      ],
      "outputs": [],
      "metadata": {
        "id": "dYUYOreWm4zy"
      }
    },
    {
      "cell_type": "code",
      "execution_count": 5,
      "source": [
        "vacunacion_ar_pe.shape"
      ],
      "outputs": [
        {
          "output_type": "execute_result",
          "data": {
            "text/plain": [
              "(59255899, 6)"
            ]
          },
          "metadata": {},
          "execution_count": 5
        }
      ],
      "metadata": {
        "id": "6xwoaRvtJChL",
        "colab": {
          "base_uri": "https://localhost:8080/"
        },
        "outputId": "da55ece4-c164-4cba-9127-c0cacaf9eec8"
      }
    },
    {
      "cell_type": "code",
      "execution_count": 6,
      "source": [
        "vacunacion_ar_pe.info()"
      ],
      "outputs": [
        {
          "output_type": "stream",
          "name": "stdout",
          "text": [
            "<class 'pandas.core.frame.DataFrame'>\n",
            "RangeIndex: 59255899 entries, 0 to 59255898\n",
            "Data columns (total 6 columns):\n",
            " #   Column            Dtype         \n",
            "---  ------            -----         \n",
            " 0   Unnamed: 0        int64         \n",
            " 1   grupo_etario      object        \n",
            " 2   fecha_aplicacion  datetime64[ns]\n",
            " 3   vacuna            object        \n",
            " 4   orden_dosis       int64         \n",
            " 5   pais              object        \n",
            "dtypes: datetime64[ns](1), int64(2), object(3)\n",
            "memory usage: 2.6+ GB\n"
          ]
        }
      ],
      "metadata": {
        "id": "aCjfJv4CSbYl",
        "colab": {
          "base_uri": "https://localhost:8080/"
        },
        "outputId": "5701f00f-d15c-470d-9697-db666cab0307"
      }
    },
    {
      "cell_type": "markdown",
      "source": [
        "## Edad\n",
        "\n",
        "- Hay distociones en la edad?"
      ],
      "metadata": {
        "id": "4q8hCJog8hXX"
      }
    },
    {
      "cell_type": "code",
      "execution_count": 9,
      "source": [
        "fig1, ax1 = plt.subplots()\n",
        "fig1.set_size_inches(10,10)\n",
        "ax1.set_title('Perú - Distribuión etária')\n",
        "ax1.boxplot(vacunacion_peru['EDAD'].to_list())\n",
        "plt.show()"
      ],
      "outputs": [
        {
          "output_type": "display_data",
          "data": {
            "text/plain": [
              "<Figure size 720x720 with 1 Axes>"
            ],
            "image/png": "[encoded data removed]"
          },
          "metadata": {
            "needs_background": "light"
          }
        }
      ],
      "metadata": {
        "id": "2AtDPY0m6rkM",
        "colab": {
          "base_uri": "https://localhost:8080/",
          "height": 607
        },
        "outputId": "aea2765d-4fae-406a-f059-9880c31da26a"
      }
    },
    {
      "cell_type": "markdown",
      "source": [
        "- Cuál es la cantidade de vacunas aplicadas en cada grupo etário?"
      ],
      "metadata": {}
    },
    {
      "cell_type": "code",
      "execution_count": 10,
      "source": [
        "vacunacion_ar_pe['grupo_etario'].unique()"
      ],
      "outputs": [
        {
          "output_type": "execute_result",
          "data": {
            "text/plain": [
              "array(['70-79', '60-69', '18-29', '50-59', '40-49', '30-39', '80-89',\n",
              "       '90-99', 'S.I.', '>=100', nan], dtype=object)"
            ]
          },
          "metadata": {},
          "execution_count": 10
        }
      ],
      "metadata": {
        "id": "IbuulI_LSRUZ",
        "colab": {
          "base_uri": "https://localhost:8080/"
        },
        "outputId": "d016adad-3923-4cc6-d728-ba1e6072fedd"
      }
    },
    {
      "cell_type": "code",
      "execution_count": 11,
      "source": [
        "vacunacion_ar_pe['grupo_etario'] = vacunacion_ar_pe.loc[:, 'grupo_etario'].replace({'S.I.': np.nan})"
      ],
      "outputs": [],
      "metadata": {
        "id": "e3VxQkoLVzA6"
      }
    },
    {
      "cell_type": "code",
      "execution_count": 12,
      "source": [
        "vacunacion_ar_pe.columns"
      ],
      "outputs": [
        {
          "output_type": "execute_result",
          "data": {
            "text/plain": [
              "Index(['Unnamed: 0', 'grupo_etario', 'fecha_aplicacion', 'vacuna',\n",
              "       'orden_dosis', 'pais'],\n",
              "      dtype='object')"
            ]
          },
          "metadata": {},
          "execution_count": 12
        }
      ],
      "metadata": {
        "id": "Zw3EKhVJXUqp",
        "colab": {
          "base_uri": "https://localhost:8080/"
        },
        "outputId": "61a13f8b-a3dc-476f-87ac-0def1a1fbdeb"
      }
    },
    {
      "cell_type": "code",
      "execution_count": 13,
      "source": [
        "vacunacion_ar_pe[['pais','grupo_etario', 'vacuna']].groupby(by=['pais', 'grupo_etario']).count()"
      ],
      "outputs": [
        {
          "output_type": "execute_result",
          "data": {
            "text/plain": [
              "                         vacuna\n",
              "pais      grupo_etario         \n",
              "Argentina 18-29         7479318\n",
              "          30-39         7441287\n",
              "          40-49         7429493\n",
              "          50-59         6522775\n",
              "          60-69         5962692\n",
              "          70-79         4173814\n",
              "          80-89         1729950\n",
              "          90-99          301881\n",
              "          >=100            5543\n",
              "Perú      18-29          922103\n",
              "          30-39         1675405\n",
              "          40-49         4362106\n",
              "          50-59         4553676\n",
              "          60-69         3404580\n",
              "          70-79         1968143\n",
              "          80-89          818049\n",
              "          90-99          129626\n",
              "          >=100            3719"
            ],
            "text/html": [
              "<div>\n",
              "<style scoped>\n",
              "    .dataframe tbody tr th:only-of-type {\n",
              "        vertical-align: middle;\n",
              "    }\n",
              "\n",
              "    .dataframe tbody tr th {\n",
              "        vertical-align: top;\n",
              "    }\n",
              "\n",
              "    .dataframe thead th {\n",
              "        text-align: right;\n",
              "    }\n",
              "</style>\n",
              "<table border=\"1\" class=\"dataframe\">\n",
              "  <thead>\n",
              "    <tr style=\"text-align: right;\">\n",
              "      <th></th>\n",
              "      <th></th>\n",
              "      <th>vacuna</th>\n",
              "    </tr>\n",
              "    <tr>\n",
              "      <th>pais</th>\n",
              "      <th>grupo_etario</th>\n",
              "      <th></th>\n",
              "    </tr>\n",
              "  </thead>\n",
              "  <tbody>\n",
              "    <tr>\n",
              "      <th rowspan=\"9\" valign=\"top\">Argentina</th>\n",
              "      <th>18-29</th>\n",
              "      <td>7479318</td>\n",
              "    </tr>\n",
              "    <tr>\n",
              "      <th>30-39</th>\n",
              "      <td>7441287</td>\n",
              "    </tr>\n",
              "    <tr>\n",
              "      <th>40-49</th>\n",
              "      <td>7429493</td>\n",
              "    </tr>\n",
              "    <tr>\n",
              "      <th>50-59</th>\n",
              "      <td>6522775</td>\n",
              "    </tr>\n",
              "    <tr>\n",
              "      <th>60-69</th>\n",
              "      <td>5962692</td>\n",
              "    </tr>\n",
              "    <tr>\n",
              "      <th>70-79</th>\n",
              "      <td>4173814</td>\n",
              "    </tr>\n",
              "    <tr>\n",
              "      <th>80-89</th>\n",
              "      <td>1729950</td>\n",
              "    </tr>\n",
              "    <tr>\n",
              "      <th>90-99</th>\n",
              "      <td>301881</td>\n",
              "    </tr>\n",
              "    <tr>\n",
              "      <th>&gt;=100</th>\n",
              "      <td>5543</td>\n",
              "    </tr>\n",
              "    <tr>\n",
              "      <th rowspan=\"9\" valign=\"top\">Perú</th>\n",
              "      <th>18-29</th>\n",
              "      <td>922103</td>\n",
              "    </tr>\n",
              "    <tr>\n",
              "      <th>30-39</th>\n",
              "      <td>1675405</td>\n",
              "    </tr>\n",
              "    <tr>\n",
              "      <th>40-49</th>\n",
              "      <td>4362106</td>\n",
              "    </tr>\n",
              "    <tr>\n",
              "      <th>50-59</th>\n",
              "      <td>4553676</td>\n",
              "    </tr>\n",
              "    <tr>\n",
              "      <th>60-69</th>\n",
              "      <td>3404580</td>\n",
              "    </tr>\n",
              "    <tr>\n",
              "      <th>70-79</th>\n",
              "      <td>1968143</td>\n",
              "    </tr>\n",
              "    <tr>\n",
              "      <th>80-89</th>\n",
              "      <td>818049</td>\n",
              "    </tr>\n",
              "    <tr>\n",
              "      <th>90-99</th>\n",
              "      <td>129626</td>\n",
              "    </tr>\n",
              "    <tr>\n",
              "      <th>&gt;=100</th>\n",
              "      <td>3719</td>\n",
              "    </tr>\n",
              "  </tbody>\n",
              "</table>\n",
              "</div>"
            ]
          },
          "metadata": {},
          "execution_count": 13
        }
      ],
      "metadata": {
        "id": "uCfHP2K57T8Y",
        "colab": {
          "base_uri": "https://localhost:8080/",
          "height": 645
        },
        "outputId": "dbedabe8-6a99-4fff-c449-a60f26f53ba7"
      }
    },
    {
      "cell_type": "code",
      "execution_count": null,
      "source": [
        "vacunacion_ar_pe[['pais','grupo_etario', 'vacuna']].groupby(by=['pais', 'grupo_etario'], as_index=False).count().to_csv('/content/drive/MyDrive/Comunidades/Palestras/datos/grupo_etario_ar_pe.csv')"
      ],
      "outputs": [],
      "metadata": {
        "id": "Bh8eBL_rc7zy"
      }
    },
    {
      "cell_type": "markdown",
      "source": [
        "- Comparación del percentual de la población vacunada entre los 2 países;"
      ],
      "metadata": {
        "id": "4rRzW02SoN5R"
      }
    },
    {
      "cell_type": "code",
      "execution_count": 31,
      "source": [
        "poblacion_argentina = 44940000\t# fuente: https://www.ign.gob.ar/NuestrasActividades/Geografia/DatosArgentina/Poblacion2\n",
        "poblacion_peru = 32510000 # fuente: https://www.inei.gob.pe/estadisticas/indice-tematico/poblacion-y-vivienda/\n",
        "\n",
        "poblacion = [poblacion_argentina, poblacion_peru]"
      ],
      "outputs": [],
      "metadata": {
        "id": "yTZhxs1DogFR"
      }
    },
    {
      "cell_type": "code",
      "execution_count": 22,
      "source": [
        "paises = primera_dosis_ar_pe['pais'].unique().tolist()\n",
        "paises"
      ],
      "outputs": [
        {
          "output_type": "execute_result",
          "data": {
            "text/plain": [
              "['Argentina', 'Perú']"
            ]
          },
          "metadata": {},
          "execution_count": 22
        }
      ],
      "metadata": {
        "colab": {
          "base_uri": "https://localhost:8080/"
        },
        "id": "06BRaQFAslB6",
        "outputId": "044cb6d5-3174-4983-b7f9-94feee5c99b2"
      }
    },
    {
      "cell_type": "code",
      "execution_count": 29,
      "source": [
        "vacunacion_ar_pe[vacunacion_ar_pe['pais'] == 'Argentina']['orden_dosis'].value_counts()"
      ],
      "outputs": [
        {
          "output_type": "execute_result",
          "data": {
            "text/plain": [
              "1    27703975\n",
              "2    13704714\n",
              "Name: orden_dosis, dtype: int64"
            ]
          },
          "metadata": {},
          "execution_count": 29
        }
      ],
      "metadata": {
        "colab": {
          "base_uri": "https://localhost:8080/"
        },
        "id": "j6p7X3cwvoer",
        "outputId": "c010afa5-b09d-4661-9886-8b30c0b0b5b3"
      }
    },
    {
      "cell_type": "code",
      "execution_count": 27,
      "source": [
        "dosis_argentina = vacunacion_ar_pe[vacunacion_ar_pe['pais'] == 'Argentina']['orden_dosis'].value_counts().to_list()\n",
        "dosis_argentina"
      ],
      "outputs": [
        {
          "output_type": "execute_result",
          "data": {
            "text/plain": [
              "[27703975, 13704714]"
            ]
          },
          "metadata": {},
          "execution_count": 27
        }
      ],
      "metadata": {
        "colab": {
          "base_uri": "https://localhost:8080/"
        },
        "id": "sDWq1tI-tInL",
        "outputId": "a2953d5e-9bd3-4a13-a579-4924d9426fff"
      }
    },
    {
      "cell_type": "code",
      "execution_count": 28,
      "source": [
        "vacunacion_ar_pe[vacunacion_ar_pe['pais'] == 'Perú']['orden_dosis'].value_counts()"
      ],
      "outputs": [
        {
          "output_type": "execute_result",
          "data": {
            "text/plain": [
              "1    10046728\n",
              "2     7800482\n",
              "Name: orden_dosis, dtype: int64"
            ]
          },
          "metadata": {},
          "execution_count": 28
        }
      ],
      "metadata": {
        "colab": {
          "base_uri": "https://localhost:8080/"
        },
        "id": "bdGR6F9uvl9k",
        "outputId": "e6c6de14-62be-41a3-b371-060a137583d1"
      }
    },
    {
      "cell_type": "code",
      "execution_count": 30,
      "source": [
        "dosis_peru = vacunacion_ar_pe[vacunacion_ar_pe['pais'] == 'Perú']['orden_dosis'].value_counts().to_list()\n",
        "dosis_peru"
      ],
      "outputs": [
        {
          "output_type": "execute_result",
          "data": {
            "text/plain": [
              "[10046728, 7800482]"
            ]
          },
          "metadata": {},
          "execution_count": 30
        }
      ],
      "metadata": {
        "colab": {
          "base_uri": "https://localhost:8080/"
        },
        "id": "0yLXYSjpunsC",
        "outputId": "0a28bf06-22f2-4de1-90fb-35c75da7c694"
      }
    },
    {
      "cell_type": "code",
      "execution_count": 36,
      "source": [
        "datos = {'pais': paises, 'poblacion': poblacion, 'primera_dosis': [dosis_argentina[0], dosis_peru[0]], 'segunda_dosis': [dosis_argentina[1], dosis_peru[1]]}\n",
        "panorama_vacunacion_ar_pe = pd.DataFrame(data=datos)"
      ],
      "outputs": [],
      "metadata": {
        "id": "1DC8C-pavtEd"
      }
    },
    {
      "cell_type": "code",
      "execution_count": 37,
      "source": [
        "panorama_vacunacion_ar_pe"
      ],
      "outputs": [
        {
          "output_type": "execute_result",
          "data": {
            "text/plain": [
              "        pais  poblacion  primera_dosis  segunda_dosis\n",
              "0  Argentina   44940000       27703975       13704714\n",
              "1       Perú   32510000       10046728        7800482"
            ],
            "text/html": [
              "<div>\n",
              "<style scoped>\n",
              "    .dataframe tbody tr th:only-of-type {\n",
              "        vertical-align: middle;\n",
              "    }\n",
              "\n",
              "    .dataframe tbody tr th {\n",
              "        vertical-align: top;\n",
              "    }\n",
              "\n",
              "    .dataframe thead th {\n",
              "        text-align: right;\n",
              "    }\n",
              "</style>\n",
              "<table border=\"1\" class=\"dataframe\">\n",
              "  <thead>\n",
              "    <tr style=\"text-align: right;\">\n",
              "      <th></th>\n",
              "      <th>pais</th>\n",
              "      <th>poblacion</th>\n",
              "      <th>primera_dosis</th>\n",
              "      <th>segunda_dosis</th>\n",
              "    </tr>\n",
              "  </thead>\n",
              "  <tbody>\n",
              "    <tr>\n",
              "      <th>0</th>\n",
              "      <td>Argentina</td>\n",
              "      <td>44940000</td>\n",
              "      <td>27703975</td>\n",
              "      <td>13704714</td>\n",
              "    </tr>\n",
              "    <tr>\n",
              "      <th>1</th>\n",
              "      <td>Perú</td>\n",
              "      <td>32510000</td>\n",
              "      <td>10046728</td>\n",
              "      <td>7800482</td>\n",
              "    </tr>\n",
              "  </tbody>\n",
              "</table>\n",
              "</div>"
            ]
          },
          "metadata": {},
          "execution_count": 37
        }
      ],
      "metadata": {
        "colab": {
          "base_uri": "https://localhost:8080/",
          "height": 112
        },
        "id": "x05FzZVRxANU",
        "outputId": "b0f68128-1491-40f4-ebf0-f3be8f69af3c"
      }
    },
    {
      "cell_type": "code",
      "execution_count": 38,
      "source": [
        "panorama_vacunacion_ar_pe['primera_dosis_porcentaje'] = round((panorama_vacunacion_ar_pe['primera_dosis']*100/panorama_vacunacion_ar_pe['poblacion']), 2)\n",
        "panorama_vacunacion_ar_pe['segunda_dosis_porcentaje'] = round((panorama_vacunacion_ar_pe['segunda_dosis']*100/panorama_vacunacion_ar_pe['poblacion']), 2)\n",
        "panorama_vacunacion_ar_pe"
      ],
      "outputs": [
        {
          "output_type": "execute_result",
          "data": {
            "text/plain": [
              "        pais  poblacion  ...  primera_dosis_porcentaje  segunda_dosis_porcentaje\n",
              "0  Argentina   44940000  ...                     61.65                     30.50\n",
              "1       Perú   32510000  ...                     30.90                     23.99\n",
              "\n",
              "[2 rows x 6 columns]"
            ],
            "text/html": [
              "<div>\n",
              "<style scoped>\n",
              "    .dataframe tbody tr th:only-of-type {\n",
              "        vertical-align: middle;\n",
              "    }\n",
              "\n",
              "    .dataframe tbody tr th {\n",
              "        vertical-align: top;\n",
              "    }\n",
              "\n",
              "    .dataframe thead th {\n",
              "        text-align: right;\n",
              "    }\n",
              "</style>\n",
              "<table border=\"1\" class=\"dataframe\">\n",
              "  <thead>\n",
              "    <tr style=\"text-align: right;\">\n",
              "      <th></th>\n",
              "      <th>pais</th>\n",
              "      <th>poblacion</th>\n",
              "      <th>primera_dosis</th>\n",
              "      <th>segunda_dosis</th>\n",
              "      <th>primera_dosis_porcentaje</th>\n",
              "      <th>segunda_dosis_porcentaje</th>\n",
              "    </tr>\n",
              "  </thead>\n",
              "  <tbody>\n",
              "    <tr>\n",
              "      <th>0</th>\n",
              "      <td>Argentina</td>\n",
              "      <td>44940000</td>\n",
              "      <td>27703975</td>\n",
              "      <td>13704714</td>\n",
              "      <td>61.65</td>\n",
              "      <td>30.50</td>\n",
              "    </tr>\n",
              "    <tr>\n",
              "      <th>1</th>\n",
              "      <td>Perú</td>\n",
              "      <td>32510000</td>\n",
              "      <td>10046728</td>\n",
              "      <td>7800482</td>\n",
              "      <td>30.90</td>\n",
              "      <td>23.99</td>\n",
              "    </tr>\n",
              "  </tbody>\n",
              "</table>\n",
              "</div>"
            ]
          },
          "metadata": {},
          "execution_count": 38
        }
      ],
      "metadata": {
        "colab": {
          "base_uri": "https://localhost:8080/",
          "height": 112
        },
        "id": "WpypgE5IxD3V",
        "outputId": "84bf09f9-bf60-4c83-b487-2c263f1e4c4e"
      }
    },
    {
      "cell_type": "code",
      "execution_count": 40,
      "source": [
        "panorama_vacunacion_ar_pe.to_csv('/content/drive/MyDrive/Comunidades/Palestras/datos/panorama_vacunacion_ar_pe.csv')"
      ],
      "outputs": [],
      "metadata": {
        "id": "3biDNgxBydX0"
      }
    },
    {
      "cell_type": "markdown",
      "source": [
        "Si a ti te gusta, así como a mí, las gráficas hermosas. Sugiero usar la plataforma [Flourish Studio](https://app.flourish.studio). Mira que hermosa ha quedada la representación de la tabla de comparación entre Argentina y Perú acerca del percentaje de la población vacunada con la 1 y 2 dosis.\n",
        "\n",
        "![imagene](grafica-comparacion-vacunacion-covid19-argentina-peru.png)"
      ],
      "metadata": {}
    },
    {
      "cell_type": "code",
      "execution_count": null,
      "source": [],
      "outputs": [],
      "metadata": {
        "id": "eV4FK2mTzfa-"
      }
    }
  ]
}